{
 "cells": [
  {
   "cell_type": "markdown",
   "metadata": {},
   "source": [
    "# Assignment 2: Machine Learning\n",
    "\n",
    "\n",
    "You have 10 days to work on a machine learning algorithm.\n",
    "I want you to pick one of the following use cases and make a prediction algorithm using either regression or classification algorithms.\n",
    "\n",
    "Do the following:\n",
    "1. Pick one use case (defined below).\n",
    "    - We went with Use Case 2  \n",
    "2. Explore and research which algorithm would work best for this use case (regression or classification)\n",
    "    - Regression\n",
    "3. Document your findings in a file (3-5 lines) on why you chose this algorithm.\n",
    "    - We think Regression being the best, seing as we are not looking for a binary value of higher or lower, but rather \"how high\" and \"how low\", we are looking for a nuanced value, and therefore regression in the best fit.\n",
    "4. Train the algorithm using Python\n",
    "    - Done\n",
    "5. Keep the solution as simple as possible. We are not looking for the best machine learning algorithm. We are interested in seeing that you know how to work with machine learning.\n",
    "    - Done\n",
    "6. Publish the code on GitHub and send us the link\n",
    "    - Sorta Done\n",
    "\n",
    "\n",
    "## Use Case 2 - Predict passenger data for Ruter\n",
    "Use the same data set given to you in assignment 1. I want you to make a prediction algorithm which predicts the number of passengers on a specific date for a specific bus (pick any one). Input should be date and output will be number of passengers\n",
    "You should also show the  prediction percentage score. Data file: Ruter_data.csv\n"
   ]
  },
  {
   "cell_type": "code",
   "execution_count": 634,
   "metadata": {},
   "outputs": [],
   "source": [
    "# Imports\n",
    "\n",
    "# numpy for math\n",
    "import numpy as np\n",
    "# pandas for dataframes\n",
    "import pandas as pd\n",
    "#importing datetime for format conversion\n",
    "import datetime as dt\n",
    "\n",
    "#improts for plott\n",
    "import matplotlib.pyplot as plt\n",
    "import seaborn as sns\n",
    "sns.set_theme(style=\"darkgrid\")\n",
    "\n",
    "\n",
    "# importing ai stuff\n",
    "from sklearn import metrics\n",
    "from sklearn import preprocessing\n",
    "from sklearn.linear_model import LinearRegression\n",
    "from sklearn.model_selection import train_test_split\n",
    "\n",
    "# From some weird acticle about polynomial regression\n",
    "from sklearn.preprocessing import PolynomialFeatures\n",
    "from sklearn.pipeline import make_pipeline"
   ]
  },
  {
   "cell_type": "code",
   "execution_count": 635,
   "metadata": {},
   "outputs": [
    {
     "name": "stdout",
     "output_type": "stream",
     "text": [
      "100     465\n",
      "110     362\n",
      "390     247\n",
      "31      220\n",
      "360     189\n",
      "       ... \n",
      "3772      1\n",
      "3575      1\n",
      "3833      1\n",
      "3335      1\n",
      "452       1\n",
      "Name: Linjenavn, Length: 150, dtype: int64\n",
      "6000\n"
     ]
    }
   ],
   "source": [
    "\"\"\"\n",
    "First staring with making the .csv more manageable\n",
    "\"\"\"\n",
    "\n",
    "dataf = pd.read_csv(\"Ruter-data.csv\", sep=\";\")\n",
    "\n",
    "print(dataf[\"Linjenavn\"].value_counts())\n",
    "print(len(dataf.index))"
   ]
  },
  {
   "cell_type": "code",
   "execution_count": 636,
   "metadata": {},
   "outputs": [
    {
     "name": "stdout",
     "output_type": "stream",
     "text": [
      "100    423\n",
      "Name: Linjenavn, dtype: int64\n",
      "423\n"
     ]
    }
   ],
   "source": [
    "# We are only going to predict a single bus route, so dropping every other route, reducing from 6000 rows to just 110 rows\n",
    "dataf = dataf[dataf['Linjenavn'] == \"100\"]\n",
    "\n",
    "# Also dropping negative passager values, as these must be sensor misreadings\n",
    "dataf = dataf[dataf['Passasjerer_Ombord'] >= 0]\n",
    "\n",
    "\n",
    "print(dataf[\"Linjenavn\"].value_counts())\n",
    "print(len(dataf.index))"
   ]
  },
  {
   "cell_type": "code",
   "execution_count": 637,
   "metadata": {},
   "outputs": [
    {
     "name": "stdout",
     "output_type": "stream",
     "text": [
      "Viken    252\n",
      "Oslo     171\n",
      "Name: Fylke, dtype: int64\n",
      "Nordøst     378\n",
      "Indre By     45\n",
      "Name: Område, dtype: int64\n",
      "Lillestrøm    169\n",
      "Alna          101\n",
      "Lørenskog      83\n",
      "Gamle Oslo     45\n",
      "Stovner        19\n",
      "Bjerke          6\n",
      "Name: Kommune, dtype: int64\n",
      "Lokal    423\n",
      "Name: Linjetype, dtype: int64\n",
      "Viken    423\n",
      "Name: Linjefylke, dtype: int64\n",
      "151    423\n",
      "Name: Kjøretøy_Kapasitet, dtype: int64\n"
     ]
    }
   ],
   "source": [
    "# Testing to see if any columns could be dropped\n",
    "\n",
    "print(dataf[\"Fylke\"].value_counts())\n",
    "print(dataf[\"Område\"].value_counts())\n",
    "print(dataf[\"Kommune\"].value_counts())\n",
    "print(dataf[\"Linjetype\"].value_counts())\n",
    "print(dataf[\"Linjefylke\"].value_counts())\n",
    "print(dataf[\"Kjøretøy_Kapasitet\"].value_counts())\n",
    "\n",
    "\n",
    "# Seems like linjetype, linjefylke and kjøretøy kapasitet can be dropped, as they contain the same value across the board\n",
    "# Linjenavn can also be dropped, as of course, that is the same in every value, we just need to remember that it was for bus 150 hahah"
   ]
  },
  {
   "cell_type": "code",
   "execution_count": 638,
   "metadata": {},
   "outputs": [
    {
     "data": {
      "text/html": [
       "<div>\n",
       "<style scoped>\n",
       "    .dataframe tbody tr th:only-of-type {\n",
       "        vertical-align: middle;\n",
       "    }\n",
       "\n",
       "    .dataframe tbody tr th {\n",
       "        vertical-align: top;\n",
       "    }\n",
       "\n",
       "    .dataframe thead th {\n",
       "        text-align: right;\n",
       "    }\n",
       "</style>\n",
       "<table border=\"1\" class=\"dataframe\">\n",
       "  <thead>\n",
       "    <tr style=\"text-align: right;\">\n",
       "      <th></th>\n",
       "      <th>TurId</th>\n",
       "      <th>Dato</th>\n",
       "      <th>Fylke</th>\n",
       "      <th>Område</th>\n",
       "      <th>Kommune</th>\n",
       "      <th>Holdeplass_Fra</th>\n",
       "      <th>Holdeplass_Til</th>\n",
       "      <th>Linjeretning</th>\n",
       "      <th>Tidspunkt_Faktisk_Ankomst_Holdeplass_Fra</th>\n",
       "      <th>Tidspunkt_Faktisk_Avgang_Holdeplass_Fra</th>\n",
       "      <th>Tidspunkt_Planlagt_Ankomst_Holdeplass_Fra</th>\n",
       "      <th>Tidspunkt_Planlagt_Avgang_Holdeplass_Fra</th>\n",
       "      <th>Passasjerer_Ombord</th>\n",
       "    </tr>\n",
       "  </thead>\n",
       "  <tbody>\n",
       "    <tr>\n",
       "      <th>38</th>\n",
       "      <td>10008-2020-08-09T11:24:00+02:00</td>\n",
       "      <td>09/08/2020</td>\n",
       "      <td>Viken</td>\n",
       "      <td>Nordøst</td>\n",
       "      <td>Lillestrøm</td>\n",
       "      <td>Sagdalen</td>\n",
       "      <td>Sagdalen skole</td>\n",
       "      <td>0</td>\n",
       "      <td>11:38:58</td>\n",
       "      <td>11:39:06</td>\n",
       "      <td>11:38:00</td>\n",
       "      <td>11:38:00</td>\n",
       "      <td>1</td>\n",
       "    </tr>\n",
       "  </tbody>\n",
       "</table>\n",
       "</div>"
      ],
      "text/plain": [
       "                              TurId        Dato  Fylke   Område     Kommune  \\\n",
       "38  10008-2020-08-09T11:24:00+02:00  09/08/2020  Viken  Nordøst  Lillestrøm   \n",
       "\n",
       "   Holdeplass_Fra  Holdeplass_Til  Linjeretning  \\\n",
       "38       Sagdalen  Sagdalen skole             0   \n",
       "\n",
       "   Tidspunkt_Faktisk_Ankomst_Holdeplass_Fra  \\\n",
       "38                                 11:38:58   \n",
       "\n",
       "   Tidspunkt_Faktisk_Avgang_Holdeplass_Fra  \\\n",
       "38                                11:39:06   \n",
       "\n",
       "   Tidspunkt_Planlagt_Ankomst_Holdeplass_Fra  \\\n",
       "38                                  11:38:00   \n",
       "\n",
       "   Tidspunkt_Planlagt_Avgang_Holdeplass_Fra  Passasjerer_Ombord  \n",
       "38                                 11:38:00                   1  "
      ]
     },
     "execution_count": 638,
     "metadata": {},
     "output_type": "execute_result"
    }
   ],
   "source": [
    "dataf.drop({'Linjetype', 'Linjefylke', 'Kjøretøy_Kapasitet', 'Linjenavn'}, axis=1, inplace=True)\n",
    "\n",
    "dataf.head(1)"
   ]
  },
  {
   "cell_type": "code",
   "execution_count": 639,
   "metadata": {},
   "outputs": [
    {
     "data": {
      "text/html": [
       "<div>\n",
       "<style scoped>\n",
       "    .dataframe tbody tr th:only-of-type {\n",
       "        vertical-align: middle;\n",
       "    }\n",
       "\n",
       "    .dataframe tbody tr th {\n",
       "        vertical-align: top;\n",
       "    }\n",
       "\n",
       "    .dataframe thead th {\n",
       "        text-align: right;\n",
       "    }\n",
       "</style>\n",
       "<table border=\"1\" class=\"dataframe\">\n",
       "  <thead>\n",
       "    <tr style=\"text-align: right;\">\n",
       "      <th></th>\n",
       "      <th>TurId</th>\n",
       "      <th>Dato</th>\n",
       "      <th>Fylke</th>\n",
       "      <th>Område</th>\n",
       "      <th>Kommune</th>\n",
       "      <th>Holdeplass_Fra</th>\n",
       "      <th>Holdeplass_Til</th>\n",
       "      <th>Linjeretning</th>\n",
       "      <th>Tidspunkt_Faktisk_Ankomst_Holdeplass_Fra</th>\n",
       "      <th>Tidspunkt_Faktisk_Avgang_Holdeplass_Fra</th>\n",
       "      <th>Tidspunkt_Planlagt_Ankomst_Holdeplass_Fra</th>\n",
       "      <th>Tidspunkt_Planlagt_Avgang_Holdeplass_Fra</th>\n",
       "      <th>Passasjerer_Ombord</th>\n",
       "    </tr>\n",
       "  </thead>\n",
       "  <tbody>\n",
       "    <tr>\n",
       "      <th>38</th>\n",
       "      <td>10008-2020-08-09T11:24:00+02:00</td>\n",
       "      <td>2020-09-08</td>\n",
       "      <td>Viken</td>\n",
       "      <td>Nordøst</td>\n",
       "      <td>Lillestrøm</td>\n",
       "      <td>Sagdalen</td>\n",
       "      <td>Sagdalen skole</td>\n",
       "      <td>0</td>\n",
       "      <td>11:38:58</td>\n",
       "      <td>11:39:06</td>\n",
       "      <td>11:38:00</td>\n",
       "      <td>11:38:00</td>\n",
       "      <td>1</td>\n",
       "    </tr>\n",
       "  </tbody>\n",
       "</table>\n",
       "</div>"
      ],
      "text/plain": [
       "                              TurId       Dato  Fylke   Område     Kommune  \\\n",
       "38  10008-2020-08-09T11:24:00+02:00 2020-09-08  Viken  Nordøst  Lillestrøm   \n",
       "\n",
       "   Holdeplass_Fra  Holdeplass_Til  Linjeretning  \\\n",
       "38       Sagdalen  Sagdalen skole             0   \n",
       "\n",
       "   Tidspunkt_Faktisk_Ankomst_Holdeplass_Fra  \\\n",
       "38                                 11:38:58   \n",
       "\n",
       "   Tidspunkt_Faktisk_Avgang_Holdeplass_Fra  \\\n",
       "38                                11:39:06   \n",
       "\n",
       "   Tidspunkt_Planlagt_Ankomst_Holdeplass_Fra  \\\n",
       "38                                  11:38:00   \n",
       "\n",
       "   Tidspunkt_Planlagt_Avgang_Holdeplass_Fra  Passasjerer_Ombord  \n",
       "38                                 11:38:00                   1  "
      ]
     },
     "execution_count": 639,
     "metadata": {},
     "output_type": "execute_result"
    }
   ],
   "source": [
    "# Converting first to pandas time format, you can see the change in the Dato column, goes from \"/\" format to \"-\" format\n",
    "\n",
    "dataf['Dato'] = pd.to_datetime(dataf['Dato'], errors='coerce')\n",
    "\n",
    "dataf.head(1)"
   ]
  },
  {
   "cell_type": "code",
   "execution_count": 640,
   "metadata": {},
   "outputs": [
    {
     "data": {
      "text/html": [
       "<div>\n",
       "<style scoped>\n",
       "    .dataframe tbody tr th:only-of-type {\n",
       "        vertical-align: middle;\n",
       "    }\n",
       "\n",
       "    .dataframe tbody tr th {\n",
       "        vertical-align: top;\n",
       "    }\n",
       "\n",
       "    .dataframe thead th {\n",
       "        text-align: right;\n",
       "    }\n",
       "</style>\n",
       "<table border=\"1\" class=\"dataframe\">\n",
       "  <thead>\n",
       "    <tr style=\"text-align: right;\">\n",
       "      <th></th>\n",
       "      <th>TurId</th>\n",
       "      <th>Dato</th>\n",
       "      <th>Fylke</th>\n",
       "      <th>Område</th>\n",
       "      <th>Kommune</th>\n",
       "      <th>Holdeplass_Fra</th>\n",
       "      <th>Holdeplass_Til</th>\n",
       "      <th>Linjeretning</th>\n",
       "      <th>Tidspunkt_Faktisk_Ankomst_Holdeplass_Fra</th>\n",
       "      <th>Tidspunkt_Faktisk_Avgang_Holdeplass_Fra</th>\n",
       "      <th>Tidspunkt_Planlagt_Ankomst_Holdeplass_Fra</th>\n",
       "      <th>Tidspunkt_Planlagt_Avgang_Holdeplass_Fra</th>\n",
       "      <th>Passasjerer_Ombord</th>\n",
       "    </tr>\n",
       "  </thead>\n",
       "  <tbody>\n",
       "    <tr>\n",
       "      <th>38</th>\n",
       "      <td>10008-2020-08-09T11:24:00+02:00</td>\n",
       "      <td>737676</td>\n",
       "      <td>Viken</td>\n",
       "      <td>Nordøst</td>\n",
       "      <td>Lillestrøm</td>\n",
       "      <td>Sagdalen</td>\n",
       "      <td>Sagdalen skole</td>\n",
       "      <td>0</td>\n",
       "      <td>11:38:58</td>\n",
       "      <td>11:39:06</td>\n",
       "      <td>11:38:00</td>\n",
       "      <td>11:38:00</td>\n",
       "      <td>1</td>\n",
       "    </tr>\n",
       "  </tbody>\n",
       "</table>\n",
       "</div>"
      ],
      "text/plain": [
       "                              TurId    Dato  Fylke   Område     Kommune  \\\n",
       "38  10008-2020-08-09T11:24:00+02:00  737676  Viken  Nordøst  Lillestrøm   \n",
       "\n",
       "   Holdeplass_Fra  Holdeplass_Til  Linjeretning  \\\n",
       "38       Sagdalen  Sagdalen skole             0   \n",
       "\n",
       "   Tidspunkt_Faktisk_Ankomst_Holdeplass_Fra  \\\n",
       "38                                 11:38:58   \n",
       "\n",
       "   Tidspunkt_Faktisk_Avgang_Holdeplass_Fra  \\\n",
       "38                                11:39:06   \n",
       "\n",
       "   Tidspunkt_Planlagt_Ankomst_Holdeplass_Fra  \\\n",
       "38                                  11:38:00   \n",
       "\n",
       "   Tidspunkt_Planlagt_Avgang_Holdeplass_Fra  Passasjerer_Ombord  \n",
       "38                                 11:38:00                   1  "
      ]
     },
     "execution_count": 640,
     "metadata": {},
     "output_type": "execute_result"
    }
   ],
   "source": [
    "# Turning the pandas datetime format to a number value, determining distance from the date \"01.01.01\"\n",
    "\n",
    "dataf['Dato'] = dataf['Dato'].map(dt.datetime.toordinal)\n",
    "\n",
    "dataf.head(1)"
   ]
  },
  {
   "cell_type": "code",
   "execution_count": 641,
   "metadata": {},
   "outputs": [
    {
     "name": "stdout",
     "output_type": "stream",
     "text": [
      "337\n",
      "1\n"
     ]
    }
   ],
   "source": [
    "# Setting data to a more sensible value, having day 1 being\n",
    "# TODO: Might also have to group on date\n",
    "\n",
    "# Figuring out the distance between dates based on max and min date \n",
    "print(max(dataf['Dato']) - min(dataf['Dato']))\n",
    "\n",
    "# Storing this for later in case we want to correct the data back again\n",
    "dateReduction = min(dataf['Dato']) - 1 \n",
    "\n",
    "# Like this, first date should have a value of 1\n",
    "dataf['Dato'] = dataf['Dato'] - dateReduction \n",
    "\n",
    "# Checking that we do not in fact have a 0 value\n",
    "print(min(dataf['Dato'])) "
   ]
  },
  {
   "cell_type": "code",
   "execution_count": 642,
   "metadata": {},
   "outputs": [
    {
     "data": {
      "text/plain": [
       "<seaborn.axisgrid.FacetGrid at 0x7ffa306ff4f0>"
      ]
     },
     "execution_count": 642,
     "metadata": {},
     "output_type": "execute_result"
    },
    {
     "data": {
      "image/png": "[encoded data removed]",
      "text/plain": [
       "<Figure size 360x360 with 1 Axes>"
      ]
     },
     "metadata": {},
     "output_type": "display_data"
    }
   ],
   "source": [
    "# Task is to predict passengers per day, so doing a quick relplot thus far\n",
    "\n",
    "sns.relplot(x=\"Dato\", y=\"Passasjerer_Ombord\", kind=\"line\", data=dataf)\n",
    "\n",
    "# Guessing that the lack of precission is due to lack of grouping"
   ]
  },
  {
   "cell_type": "code",
   "execution_count": 643,
   "metadata": {},
   "outputs": [
    {
     "name": "stdout",
     "output_type": "stream",
     "text": [
      "90\n"
     ]
    }
   ],
   "source": [
    "# We see that a lot of days have multiple counts, and we need to group them, 110 rows are spread over 43 unique dates\n",
    "print(len(dataf[\"Dato\"].value_counts()))"
   ]
  },
  {
   "cell_type": "code",
   "execution_count": 644,
   "metadata": {},
   "outputs": [
    {
     "data": {
      "text/html": [
       "<div>\n",
       "<style scoped>\n",
       "    .dataframe tbody tr th:only-of-type {\n",
       "        vertical-align: middle;\n",
       "    }\n",
       "\n",
       "    .dataframe tbody tr th {\n",
       "        vertical-align: top;\n",
       "    }\n",
       "\n",
       "    .dataframe thead th {\n",
       "        text-align: right;\n",
       "    }\n",
       "</style>\n",
       "<table border=\"1\" class=\"dataframe\">\n",
       "  <thead>\n",
       "    <tr style=\"text-align: right;\">\n",
       "      <th></th>\n",
       "      <th>Dato</th>\n",
       "      <th>Linjeretning</th>\n",
       "      <th>Passasjerer_Ombord</th>\n",
       "      <th>Ukedag</th>\n",
       "    </tr>\n",
       "  </thead>\n",
       "  <tbody>\n",
       "    <tr>\n",
       "      <th>0</th>\n",
       "      <td>1</td>\n",
       "      <td>0.666667</td>\n",
       "      <td>5.666667</td>\n",
       "      <td>2</td>\n",
       "    </tr>\n",
       "    <tr>\n",
       "      <th>1</th>\n",
       "      <td>2</td>\n",
       "      <td>0.571429</td>\n",
       "      <td>7.285714</td>\n",
       "      <td>3</td>\n",
       "    </tr>\n",
       "    <tr>\n",
       "      <th>2</th>\n",
       "      <td>3</td>\n",
       "      <td>0.666667</td>\n",
       "      <td>14.333333</td>\n",
       "      <td>4</td>\n",
       "    </tr>\n",
       "    <tr>\n",
       "      <th>3</th>\n",
       "      <td>32</td>\n",
       "      <td>0.333333</td>\n",
       "      <td>6.333333</td>\n",
       "      <td>5</td>\n",
       "    </tr>\n",
       "    <tr>\n",
       "      <th>4</th>\n",
       "      <td>33</td>\n",
       "      <td>0.363636</td>\n",
       "      <td>7.000000</td>\n",
       "      <td>6</td>\n",
       "    </tr>\n",
       "    <tr>\n",
       "      <th>...</th>\n",
       "      <td>...</td>\n",
       "      <td>...</td>\n",
       "      <td>...</td>\n",
       "      <td>...</td>\n",
       "    </tr>\n",
       "    <tr>\n",
       "      <th>85</th>\n",
       "      <td>307</td>\n",
       "      <td>0.250000</td>\n",
       "      <td>8.500000</td>\n",
       "      <td>7</td>\n",
       "    </tr>\n",
       "    <tr>\n",
       "      <th>86</th>\n",
       "      <td>308</td>\n",
       "      <td>0.600000</td>\n",
       "      <td>8.400000</td>\n",
       "      <td>1</td>\n",
       "    </tr>\n",
       "    <tr>\n",
       "      <th>87</th>\n",
       "      <td>336</td>\n",
       "      <td>0.500000</td>\n",
       "      <td>5.750000</td>\n",
       "      <td>1</td>\n",
       "    </tr>\n",
       "    <tr>\n",
       "      <th>88</th>\n",
       "      <td>337</td>\n",
       "      <td>1.000000</td>\n",
       "      <td>3.000000</td>\n",
       "      <td>2</td>\n",
       "    </tr>\n",
       "    <tr>\n",
       "      <th>89</th>\n",
       "      <td>338</td>\n",
       "      <td>0.000000</td>\n",
       "      <td>11.000000</td>\n",
       "      <td>3</td>\n",
       "    </tr>\n",
       "  </tbody>\n",
       "</table>\n",
       "<p>90 rows × 4 columns</p>\n",
       "</div>"
      ],
      "text/plain": [
       "    Dato  Linjeretning  Passasjerer_Ombord  Ukedag\n",
       "0      1      0.666667            5.666667       2\n",
       "1      2      0.571429            7.285714       3\n",
       "2      3      0.666667           14.333333       4\n",
       "3     32      0.333333            6.333333       5\n",
       "4     33      0.363636            7.000000       6\n",
       "..   ...           ...                 ...     ...\n",
       "85   307      0.250000            8.500000       7\n",
       "86   308      0.600000            8.400000       1\n",
       "87   336      0.500000            5.750000       1\n",
       "88   337      1.000000            3.000000       2\n",
       "89   338      0.000000           11.000000       3\n",
       "\n",
       "[90 rows x 4 columns]"
      ]
     },
     "execution_count": 644,
     "metadata": {},
     "output_type": "execute_result"
    }
   ],
   "source": [
    "\"\"\"\n",
    "Sources that helped with this grouping and such:\n",
    "https://www.geeksforgeeks.org/pandas-groupby/?ref=lbp\n",
    "https://towardsdatascience.com/all-pandas-groupby-you-should-know-for-grouping-data-and-performing-operations-2a8ec1327b5\n",
    "\n",
    "Espescially this one:\n",
    "https://www.askpython.com/python-modules/pandas/conditionally-grouping-values\n",
    "\n",
    "https://stackoverflow.com/questions/26323926/pandas-groupby-agg-how-to-return-results-without-the-multi-index\n",
    "\"\"\"\n",
    "\n",
    "\"\"\"\n",
    "We went with using mean instead of sum, as there were super unreliable data in this dataset. Some days have no recordings, other have a few, but none have the actual data, containing every trip for every bus in that line, on a given day. Therefore it would not make sense to sum the passengers together as the sums would mean nothing without complete data\n",
    "\"\"\"\n",
    "dataf = dataf.groupby('Dato', axis=0, as_index=False).mean()\n",
    "\n",
    "#engineering feature for weekday\n",
    "dataf['Ukedag'] = dataf['Dato'] % 7\n",
    "\n",
    "# Adding 1 to every weekday to hinder zero values\n",
    "dataf['Ukedag'] = dataf['Ukedag'] + 1\n",
    "\n",
    "# dataf = dataf['Passasjerer_Ombord'].agg(np.mean)\n",
    "\n",
    "\"\"\"\n",
    "btw, either i did something massively wrong, or like this dataset is quite lacking, it doesn't even have daily entries on this bus, that goes like 4 times per hour every day, what is that all about?\n",
    "\"\"\"\n",
    "\n",
    "dataf"
   ]
  },
  {
   "cell_type": "code",
   "execution_count": 645,
   "metadata": {},
   "outputs": [
    {
     "data": {
      "image/png": "[encoded data removed]",
      "text/plain": [
       "<Figure size 288x288 with 1 Axes>"
      ]
     },
     "metadata": {},
     "output_type": "display_data"
    },
    {
     "data": {
      "text/html": [
       "<style type=\"text/css\">\n",
       "#T_25280_row0_col0, #T_25280_row1_col1, #T_25280_row2_col2, #T_25280_row3_col3 {\n",
       "  background-color: #b40426;\n",
       "  color: #f1f1f1;\n",
       "}\n",
       "#T_25280_row0_col1, #T_25280_row0_col2, #T_25280_row0_col3, #T_25280_row2_col0 {\n",
       "  background-color: #3b4cc0;\n",
       "  color: #f1f1f1;\n",
       "}\n",
       "#T_25280_row1_col0 {\n",
       "  background-color: #5d7ce6;\n",
       "  color: #f1f1f1;\n",
       "}\n",
       "#T_25280_row1_col2 {\n",
       "  background-color: #96b7ff;\n",
       "  color: #000000;\n",
       "}\n",
       "#T_25280_row1_col3 {\n",
       "  background-color: #5673e0;\n",
       "  color: #f1f1f1;\n",
       "}\n",
       "#T_25280_row2_col1 {\n",
       "  background-color: #7699f6;\n",
       "  color: #f1f1f1;\n",
       "}\n",
       "#T_25280_row2_col3 {\n",
       "  background-color: #7a9df8;\n",
       "  color: #f1f1f1;\n",
       "}\n",
       "#T_25280_row3_col0 {\n",
       "  background-color: #445acc;\n",
       "  color: #f1f1f1;\n",
       "}\n",
       "#T_25280_row3_col1 {\n",
       "  background-color: #3e51c5;\n",
       "  color: #f1f1f1;\n",
       "}\n",
       "#T_25280_row3_col2 {\n",
       "  background-color: #82a6fb;\n",
       "  color: #f1f1f1;\n",
       "}\n",
       "</style>\n",
       "<table id=\"T_25280_\">\n",
       "  <thead>\n",
       "    <tr>\n",
       "      <th class=\"blank level0\" >&nbsp;</th>\n",
       "      <th class=\"col_heading level0 col0\" >Dato</th>\n",
       "      <th class=\"col_heading level0 col1\" >Linjeretning</th>\n",
       "      <th class=\"col_heading level0 col2\" >Passasjerer_Ombord</th>\n",
       "      <th class=\"col_heading level0 col3\" >Ukedag</th>\n",
       "    </tr>\n",
       "  </thead>\n",
       "  <tbody>\n",
       "    <tr>\n",
       "      <th id=\"T_25280_level0_row0\" class=\"row_heading level0 row0\" >Dato</th>\n",
       "      <td id=\"T_25280_row0_col0\" class=\"data row0 col0\" >1.000000</td>\n",
       "      <td id=\"T_25280_row0_col1\" class=\"data row0 col1\" >-0.007989</td>\n",
       "      <td id=\"T_25280_row0_col2\" class=\"data row0 col2\" >-0.132578</td>\n",
       "      <td id=\"T_25280_row0_col3\" class=\"data row0 col3\" >-0.095265</td>\n",
       "    </tr>\n",
       "    <tr>\n",
       "      <th id=\"T_25280_level0_row1\" class=\"row_heading level0 row1\" >Linjeretning</th>\n",
       "      <td id=\"T_25280_row1_col0\" class=\"data row1 col0\" >-0.007989</td>\n",
       "      <td id=\"T_25280_row1_col1\" class=\"data row1 col1\" >1.000000</td>\n",
       "      <td id=\"T_25280_row1_col2\" class=\"data row1 col2\" >0.178383</td>\n",
       "      <td id=\"T_25280_row1_col3\" class=\"data row1 col3\" >0.004452</td>\n",
       "    </tr>\n",
       "    <tr>\n",
       "      <th id=\"T_25280_level0_row2\" class=\"row_heading level0 row2\" >Passasjerer_Ombord</th>\n",
       "      <td id=\"T_25280_row2_col0\" class=\"data row2 col0\" >-0.132578</td>\n",
       "      <td id=\"T_25280_row2_col1\" class=\"data row2 col1\" >0.178383</td>\n",
       "      <td id=\"T_25280_row2_col2\" class=\"data row2 col2\" >1.000000</td>\n",
       "      <td id=\"T_25280_row2_col3\" class=\"data row2 col3\" >0.119183</td>\n",
       "    </tr>\n",
       "    <tr>\n",
       "      <th id=\"T_25280_level0_row3\" class=\"row_heading level0 row3\" >Ukedag</th>\n",
       "      <td id=\"T_25280_row3_col0\" class=\"data row3 col0\" >-0.095265</td>\n",
       "      <td id=\"T_25280_row3_col1\" class=\"data row3 col1\" >0.004452</td>\n",
       "      <td id=\"T_25280_row3_col2\" class=\"data row3 col2\" >0.119183</td>\n",
       "      <td id=\"T_25280_row3_col3\" class=\"data row3 col3\" >1.000000</td>\n",
       "    </tr>\n",
       "  </tbody>\n",
       "</table>\n"
      ],
      "text/plain": [
       "<pandas.io.formats.style.Styler at 0x7ffa304a2160>"
      ]
     },
     "execution_count": 645,
     "metadata": {},
     "output_type": "execute_result"
    }
   ],
   "source": [
    "# Just quickly checking for any correlation\n",
    "\n",
    "corrMatrix = dataf.corr()\n",
    "plt.matshow(corrMatrix)\n",
    "plt.show()\n",
    "\n",
    "corrMatrix.style.background_gradient(cmap='coolwarm')"
   ]
  },
  {
   "cell_type": "code",
   "execution_count": 646,
   "metadata": {},
   "outputs": [
    {
     "data": {
      "text/plain": [
       "<seaborn.axisgrid.FacetGrid at 0x7ffa304a7fd0>"
      ]
     },
     "execution_count": 646,
     "metadata": {},
     "output_type": "execute_result"
    },
    {
     "data": {
      "image/png": "[encoded data removed]",
      "text/plain": [
       "<Figure size 360x360 with 1 Axes>"
      ]
     },
     "metadata": {},
     "output_type": "display_data"
    },
    {
     "data": {
      "image/png": "[encoded data removed]",
      "text/plain": [
       "<Figure size 360x360 with 1 Axes>"
      ]
     },
     "metadata": {},
     "output_type": "display_data"
    }
   ],
   "source": [
    "sns.relplot(x=\"Dato\", y=\"Passasjerer_Ombord\", kind=\"line\", data=dataf)\n",
    "sns.relplot(x=\"Ukedag\", y=\"Passasjerer_Ombord\", kind=\"line\", data=dataf)\n",
    "\n",
    "\n",
    "# even thought the other columns got a bit scuffed, then we see that the plot itself becomes much cleaner\n",
    "# Grouping on weekday might give us better values for regression algorithm"
   ]
  },
  {
   "cell_type": "code",
   "execution_count": 647,
   "metadata": {},
   "outputs": [],
   "source": [
    "\"\"\"\n",
    "THIS IS THE PART WHERE WE STEAL EVERYTHING FROM LAB 4\n",
    "Source: https://github.com/umaimehm/Intro_to_AI_2021/tree/main/Lab4\n",
    "\"\"\"\n",
    "\n",
    "\"\"\"\n",
    "Setting x to be weekday\n",
    "y to be passengers\n",
    "\"\"\"\n",
    "\n",
    "# setting up columns for training\n",
    "X = pd.DataFrame(dataf['Dato']) #Var1\n",
    "X1 = pd.DataFrame(dataf['Ukedag']) #Var1\n",
    "\n",
    "y = pd.DataFrame(dataf['Passasjerer_Ombord']) #Result\n",
    "\n",
    "# Splitting x and y columns to into test and train sub sets of the actual columns\n",
    "X_train, X_test, y_train, y_test = train_test_split(X, y, test_size=0.33, random_state=42)\n",
    "X1_train, X1_test, y1_train, y1_test = train_test_split(X1, y, test_size=0.33, random_state=42)"
   ]
  },
  {
   "cell_type": "code",
   "execution_count": 648,
   "metadata": {},
   "outputs": [],
   "source": [
    "#Date stuff\n",
    "linear_regressor = LinearRegression()\n",
    "linear_regressor.fit(X_train, y_train)\n",
    "Y_pred = linear_regressor.predict(X_train)\n",
    "\n",
    "\n",
    "#Weekday stuff\n",
    "linear_regressor1 = LinearRegression()\n",
    "linear_regressor1.fit(X1_train, y1_train)\n",
    "Y1_pred = linear_regressor.predict(X1_train)"
   ]
  },
  {
   "cell_type": "code",
   "execution_count": 649,
   "metadata": {},
   "outputs": [
    {
     "data": {
      "image/png": "[encoded data removed]",
      "text/plain": [
       "<Figure size 432x288 with 1 Axes>"
      ]
     },
     "metadata": {},
     "output_type": "display_data"
    },
    {
     "name": "stdout",
     "output_type": "stream",
     "text": [
      "MSE = 12.349483126587252\n"
     ]
    }
   ],
   "source": [
    "#Plotting day model\n",
    "plt.scatter(X_train, y_train)\n",
    "plt.plot(X_train, Y_pred, color='red')\n",
    "plt.show()\n",
    "print( \"MSE = \"+str(metrics.mean_squared_error(y_train,Y_pred))) #Calculate MSE"
   ]
  },
  {
   "cell_type": "code",
   "execution_count": 650,
   "metadata": {},
   "outputs": [
    {
     "data": {
      "image/png": "[encoded data removed]",
      "text/plain": [
       "<Figure size 432x288 with 1 Axes>"
      ]
     },
     "metadata": {},
     "output_type": "display_data"
    },
    {
     "name": "stdout",
     "output_type": "stream",
     "text": [
      "MSE = 18.365479504874948\n"
     ]
    }
   ],
   "source": [
    "#Plotting weekday model\n",
    "plt.scatter(X1_train, y1_train)\n",
    "plt.plot(X1_train, Y1_pred, color='red')\n",
    "plt.show()\n",
    "print( \"MSE = \"+str(metrics.mean_squared_error(y1_train,Y1_pred))) #Calculate MSE"
   ]
  },
  {
   "cell_type": "code",
   "execution_count": 651,
   "metadata": {
    "scrolled": true
   },
   "outputs": [
    {
     "data": {
      "image/png": "[encoded data removed]",
      "text/plain": [
       "<Figure size 432x288 with 1 Axes>"
      ]
     },
     "metadata": {},
     "output_type": "display_data"
    },
    {
     "name": "stdout",
     "output_type": "stream",
     "text": [
      "MSE = 14.778905173008802\n"
     ]
    }
   ],
   "source": [
    "# plotting combination model, inspired by lab 4\n",
    "dataf['UkeDato'] = dataf['Dato']*dataf['Ukedag']\n",
    "\n",
    "X = pd.DataFrame(dataf['UkeDato'])\n",
    "Y = pd.DataFrame(dataf['Passasjerer_Ombord'])\n",
    "linear_regressor.fit(X, Y)\n",
    "Y_pred = linear_regressor.predict(X)\n",
    "plt.scatter(X, Y)\n",
    "plt.plot(X, Y_pred, color='red')\n",
    "plt.show()\n",
    "print( \"MSE = \"+str(metrics.mean_squared_error(Y,Y_pred)))"
   ]
  },
  {
   "cell_type": "code",
   "execution_count": 652,
   "metadata": {},
   "outputs": [
    {
     "data": {
      "text/plain": [
       "array([[9.11373118]])"
      ]
     },
     "execution_count": 652,
     "metadata": {},
     "output_type": "execute_result"
    }
   ],
   "source": [
    "# This is where we show how we predict stuff, as the use case asks us to do\n",
    "\n",
    "linear_regressor.predict([[500*5]]) #Expected output = 9-10ish, passengers for that day, as it is far into the future and the line is slowly climbing"
   ]
  },
  {
   "cell_type": "code",
   "execution_count": 653,
   "metadata": {},
   "outputs": [
    {
     "name": "stdout",
     "output_type": "stream",
     "text": [
      "MSE = 14.30989433862285\n"
     ]
    }
   ],
   "source": [
    "# Quick test of polynomial regression\n",
    "# Couldn't quite figure it out whoups\n",
    "# Source (Open in private window to avoid paywall): https://towardsdatascience.com/polynomial-regression-with-scikit-learn-what-you-should-know-bed9d3296f2\n",
    "from sklearn.preprocessing import StandardScaler\n",
    "\n",
    "# \n",
    "\n",
    "X = pd.DataFrame(dataf['Dato'])\n",
    "X_sort = X.sort_values('Dato')\n",
    "y = pd.DataFrame(dataf['Passasjerer_Ombord'])\n",
    "\n",
    "scaler = StandardScaler()\n",
    "# 4th degree polynomial\n",
    "poly = PolynomialFeatures(4)\n",
    "\n",
    "# skipped using these values for some reason, decided to just run it on entire column\n",
    "X_train, X_test, y_train, y_test = train_test_split(X, y, test_size=0.33, random_state=42)\n",
    "\n",
    "xPoly = poly.fit_transform(X_sort)\n",
    "poly.fit(X_sort, y)\n",
    "\n",
    "model = LinearRegression()\n",
    "model.fit(xPoly, y)\n",
    "\n",
    "y_pred = model.predict(poly.fit_transform(X_sort))"
   ]
  },
  {
   "cell_type": "code",
   "execution_count": 654,
   "metadata": {},
   "outputs": [
    {
     "data": {
      "image/png": "[encoded data removed]",
      "text/plain": [
       "<Figure size 432x288 with 1 Axes>"
      ]
     },
     "metadata": {},
     "output_type": "display_data"
    },
    {
     "name": "stdout",
     "output_type": "stream",
     "text": [
      "MSE = 14.30989433862285\n"
     ]
    }
   ],
   "source": [
    "# Doing the plots for the polynomial model\n",
    "\n",
    "plt.scatter(X_sort, y)               \n",
    "plt.plot(X_sort, y_pred, color='red')\n",
    "plt.show()                           \n",
    "print( \"MSE = \"+str(metrics.mean_squared_error(y,y_pred)))"
   ]
  },
  {
   "cell_type": "code",
   "execution_count": 655,
   "metadata": {},
   "outputs": [
    {
     "name": "stdout",
     "output_type": "stream",
     "text": [
      "[[8.11173747]]\n",
      "[[-67.97809402]]\n",
      "[[-134.50934516]]\n",
      "[[-235.98509525]]\n",
      "[[-382.60827754]]\n",
      "[[-585.85750671]]\n",
      "[[-858.48707881]]\n",
      "[[-1214.52697132]]\n",
      "[[-1669.2828431]]\n",
      "[[-539968.47030744]]\n"
     ]
    },
    {
     "data": {
      "text/plain": [
       "'\\nprint(model.predict(poly.fit_transform([[0]])))\\nprint(model.predict(poly.fit_transform([[1]])))\\nprint(model.predict(poly.fit_transform([[2]])))\\nprint(model.predict(poly.fit_transform([[3]])))\\nprint(model.predict(poly.fit_transform([[4]])))\\nprint(model.predict(poly.fit_transform([[5]])))\\nprint(model.predict(poly.fit_transform([[6]])))\\n'"
      ]
     },
     "execution_count": 655,
     "metadata": {},
     "output_type": "execute_result"
    }
   ],
   "source": [
    "# Doing various predicts so see how our model thinks the future will be\n",
    "\n",
    "print(model.predict(poly.fit_transform([[300]])))\n",
    "print(model.predict(poly.fit_transform([[500]])))\n",
    "print(model.predict(poly.fit_transform([[550]])))\n",
    "print(model.predict(poly.fit_transform([[600]])))\n",
    "print(model.predict(poly.fit_transform([[650]])))\n",
    "print(model.predict(poly.fit_transform([[700]])))\n",
    "print(model.predict(poly.fit_transform([[750]])))\n",
    "print(model.predict(poly.fit_transform([[800]])))\n",
    "print(model.predict(poly.fit_transform([[850]])))\n",
    "print(model.predict(poly.fit_transform([[3000]])))\n",
    "\n",
    "\"\"\"\n",
    "print(model.predict(poly.fit_transform([[0]])))\n",
    "print(model.predict(poly.fit_transform([[1]])))\n",
    "print(model.predict(poly.fit_transform([[2]])))\n",
    "print(model.predict(poly.fit_transform([[3]])))\n",
    "print(model.predict(poly.fit_transform([[4]])))\n",
    "print(model.predict(poly.fit_transform([[5]])))\n",
    "print(model.predict(poly.fit_transform([[6]])))\n",
    "\"\"\"\n",
    "\n",
    "# these values are not very good, not quite sure why but we think it has something to do with the polynomial having some wild turns futher out in the \"future\" / positive x values"
   ]
  },
  {
   "cell_type": "markdown",
   "metadata": {},
   "source": [
    "# Conclusion\n",
    "\n",
    "With a limited dataset, our reading become quite bad, and our prediction limited in quality.\n",
    "\n",
    "However, i think that we did all the steps the right way, so if we were given a more complete dataset, then things could probably get a bit better\n",
    "\n",
    "I think we answered the task properly, trained and predicted via linear regression.\n",
    "\n",
    "Tried to use a polynomial fit, but it didn't quite work out, somehow got a circular line? So just ignore those parts, kept them in to show our efforts"
   ]
  }
 ],
 "metadata": {
  "interpreter": {
   "hash": "e7370f93d1d0cde622a1f8e1c04877d8463912d04d973331ad4851f04de6915a"
  },
  "kernelspec": {
   "display_name": "Python 3 (ipykernel)",
   "language": "python",
   "name": "python3"
  },
  "language_info": {
   "codemirror_mode": {
    "name": "ipython",
    "version": 3
   },
   "file_extension": ".py",
   "mimetype": "text/x-python",
   "name": "python",
   "nbconvert_exporter": "python",
   "pygments_lexer": "ipython3",
   "version": "3.9.7"
  }
 },
 "nbformat": 4,
 "nbformat_minor": 2
}
